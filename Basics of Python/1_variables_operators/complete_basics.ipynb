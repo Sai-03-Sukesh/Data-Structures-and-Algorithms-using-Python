{
 "cells": [
  {
   "cell_type": "markdown",
   "id": "565e5054",
   "metadata": {},
   "source": [
    "## Python Tutorial for beginners"
   ]
  },
  {
   "cell_type": "markdown",
   "id": "153969a1",
   "metadata": {},
   "source": [
    "### Variables \n",
    "Variables are containers that store data.\n",
    "In c++, java we define data type of variable(Ex: int a, String name...etc) so they are strongly typed languages whereas python is flexiable language."
   ]
  },
  {
   "cell_type": "code",
   "execution_count": 8,
   "id": "34e6ee95",
   "metadata": {},
   "outputs": [
    {
     "data": {
      "text/plain": [
       "150"
      ]
     },
     "execution_count": 8,
     "metadata": {},
     "output_type": "execute_result"
    }
   ],
   "source": [
    "pizza = 150\n",
    "pizza"
   ]
  },
  {
   "cell_type": "code",
   "execution_count": 9,
   "id": "d1aa76d0",
   "metadata": {},
   "outputs": [
    {
     "name": "stdout",
     "output_type": "stream",
     "text": [
      "270\n"
     ]
    }
   ],
   "source": [
    "samosa = 50\n",
    "ice_cream = 70\n",
    "total = pizza + samosa + ice_cream\n",
    "print(total)"
   ]
  },
  {
   "cell_type": "code",
   "execution_count": 10,
   "id": "fe072248",
   "metadata": {},
   "outputs": [
    {
     "data": {
      "text/plain": [
       "int"
      ]
     },
     "execution_count": 10,
     "metadata": {},
     "output_type": "execute_result"
    }
   ],
   "source": [
    "type(total)"
   ]
  },
  {
   "cell_type": "markdown",
   "id": "68462f2b",
   "metadata": {},
   "source": [
    "#### Everything is an Object in Python"
   ]
  },
  {
   "cell_type": "code",
   "execution_count": 11,
   "id": "559d489d",
   "metadata": {},
   "outputs": [
    {
     "data": {
      "text/plain": [
       "3063965131008"
      ]
     },
     "execution_count": 11,
     "metadata": {},
     "output_type": "execute_result"
    }
   ],
   "source": [
    "name_1=\"Sai\"\n",
    "id(name_1)"
   ]
  },
  {
   "cell_type": "code",
   "execution_count": 12,
   "id": "0fe01601",
   "metadata": {},
   "outputs": [
    {
     "data": {
      "text/plain": [
       "3063965131008"
      ]
     },
     "execution_count": 12,
     "metadata": {},
     "output_type": "execute_result"
    }
   ],
   "source": [
    "name_2=name_1\n",
    "id(name_2)"
   ]
  },
  {
   "cell_type": "code",
   "execution_count": 13,
   "id": "ab1fd022",
   "metadata": {},
   "outputs": [
    {
     "data": {
      "text/plain": [
       "3063965259152"
      ]
     },
     "execution_count": 13,
     "metadata": {},
     "output_type": "execute_result"
    }
   ],
   "source": [
    "name_2 = \"Sukesh\"\n",
    "id(name_2)"
   ]
  },
  {
   "cell_type": "code",
   "execution_count": 14,
   "id": "64da511b",
   "metadata": {},
   "outputs": [
    {
     "name": "stdout",
     "output_type": "stream",
     "text": [
      "Sai\n",
      "Sukesh\n"
     ]
    }
   ],
   "source": [
    "print(name_1)\n",
    "print(name_2)"
   ]
  },
  {
   "cell_type": "markdown",
   "id": "7705c3d4",
   "metadata": {},
   "source": [
    "### Naming conventions for variables"
   ]
  },
  {
   "cell_type": "code",
   "execution_count": 15,
   "id": "39d36065",
   "metadata": {},
   "outputs": [
    {
     "ename": "SyntaxError",
     "evalue": "cannot assign to True (780528851.py, line 2)",
     "output_type": "error",
     "traceback": [
      "  \u001b[36mCell\u001b[39m\u001b[36m \u001b[39m\u001b[32mIn[15]\u001b[39m\u001b[32m, line 2\u001b[39m\n\u001b[31m    \u001b[39m\u001b[31mTrue = 13\u001b[39m\n    ^\n\u001b[31mSyntaxError\u001b[39m\u001b[31m:\u001b[39m cannot assign to True\n"
     ]
    }
   ],
   "source": [
    "# We can't use  reserved keywords as variable names\n",
    "True = 13"
   ]
  },
  {
   "cell_type": "code",
   "execution_count": 17,
   "id": "a9494e34",
   "metadata": {},
   "outputs": [
    {
     "ename": "SyntaxError",
     "evalue": "invalid syntax (458279864.py, line 2)",
     "output_type": "error",
     "traceback": [
      "  \u001b[36mCell\u001b[39m\u001b[36m \u001b[39m\u001b[32mIn[17]\u001b[39m\u001b[32m, line 2\u001b[39m\n\u001b[31m    \u001b[39m\u001b[31m$name = \"Sai\"\u001b[39m\n    ^\n\u001b[31mSyntaxError\u001b[39m\u001b[31m:\u001b[39m invalid syntax\n"
     ]
    }
   ],
   "source": [
    "# We can't use special characters\n",
    "$name = \"Sai\""
   ]
  },
  {
   "cell_type": "code",
   "execution_count": 18,
   "id": "6b4dd715",
   "metadata": {},
   "outputs": [
    {
     "ename": "SyntaxError",
     "evalue": "invalid decimal literal (3370367930.py, line 2)",
     "output_type": "error",
     "traceback": [
      "  \u001b[36mCell\u001b[39m\u001b[36m \u001b[39m\u001b[32mIn[18]\u001b[39m\u001b[32m, line 2\u001b[39m\n\u001b[31m    \u001b[39m\u001b[31m1st_name = \"Sai\"\u001b[39m\n    ^\n\u001b[31mSyntaxError\u001b[39m\u001b[31m:\u001b[39m invalid decimal literal\n"
     ]
    }
   ],
   "source": [
    "# Variables names can't start with a number they either start with a letter or an underscore\n",
    "1st_name = \"Sai\""
   ]
  },
  {
   "cell_type": "code",
   "execution_count": 19,
   "id": "7e68a18b",
   "metadata": {},
   "outputs": [],
   "source": [
    "first_name= \"Sai\""
   ]
  },
  {
   "cell_type": "markdown",
   "id": "63f86054",
   "metadata": {},
   "source": [
    "# Operators"
   ]
  },
  {
   "cell_type": "markdown",
   "id": "95a393d7",
   "metadata": {},
   "source": [
    "#### Arithmatic operations "
   ]
  },
  {
   "cell_type": "code",
   "execution_count": 20,
   "id": "e9e59014",
   "metadata": {},
   "outputs": [
    {
     "name": "stdout",
     "output_type": "stream",
     "text": [
      "35.0\n"
     ]
    }
   ],
   "source": [
    "# Area of triangle\n",
    "base = 10\n",
    "height = 7\n",
    "area = (base * height)/ 2\n",
    "print(area)"
   ]
  },
  {
   "cell_type": "code",
   "execution_count": 21,
   "id": "601567c1",
   "metadata": {},
   "outputs": [
    {
     "data": {
      "text/plain": [
       "(13, 4)"
      ]
     },
     "execution_count": 21,
     "metadata": {},
     "output_type": "execute_result"
    }
   ],
   "source": [
    "x=13\n",
    "y=4\n",
    "x, y"
   ]
  },
  {
   "cell_type": "code",
   "execution_count": 22,
   "id": "f0d6f5a3",
   "metadata": {},
   "outputs": [
    {
     "data": {
      "text/plain": [
       "17"
      ]
     },
     "execution_count": 22,
     "metadata": {},
     "output_type": "execute_result"
    }
   ],
   "source": [
    "x + y"
   ]
  },
  {
   "cell_type": "code",
   "execution_count": 23,
   "id": "2f8f3162",
   "metadata": {},
   "outputs": [
    {
     "data": {
      "text/plain": [
       "9"
      ]
     },
     "execution_count": 23,
     "metadata": {},
     "output_type": "execute_result"
    }
   ],
   "source": [
    "x-y"
   ]
  },
  {
   "cell_type": "code",
   "execution_count": 24,
   "id": "042c4698",
   "metadata": {},
   "outputs": [
    {
     "data": {
      "text/plain": [
       "3.25"
      ]
     },
     "execution_count": 24,
     "metadata": {},
     "output_type": "execute_result"
    }
   ],
   "source": [
    "x/y"
   ]
  },
  {
   "cell_type": "code",
   "execution_count": null,
   "id": "ae8592fe",
   "metadata": {},
   "outputs": [
    {
     "data": {
      "text/plain": [
       "3"
      ]
     },
     "execution_count": 25,
     "metadata": {},
     "output_type": "execute_result"
    }
   ],
   "source": [
    "#Find dividend\n",
    "x//y"
   ]
  },
  {
   "cell_type": "code",
   "execution_count": 26,
   "id": "f12b83a0",
   "metadata": {},
   "outputs": [
    {
     "data": {
      "text/plain": [
       "1"
      ]
     },
     "execution_count": 26,
     "metadata": {},
     "output_type": "execute_result"
    }
   ],
   "source": [
    "#Find remainder\n",
    "x%y"
   ]
  },
  {
   "cell_type": "code",
   "execution_count": 27,
   "id": "d822c763",
   "metadata": {},
   "outputs": [
    {
     "data": {
      "text/plain": [
       "28561"
      ]
     },
     "execution_count": 27,
     "metadata": {},
     "output_type": "execute_result"
    }
   ],
   "source": [
    "#Finding power of a number\n",
    "x**y"
   ]
  },
  {
   "cell_type": "code",
   "execution_count": 30,
   "id": "1b35e1af",
   "metadata": {},
   "outputs": [
    {
     "name": "stdout",
     "output_type": "stream",
     "text": [
      "1500.0\n",
      "0.0015\n"
     ]
    }
   ],
   "source": [
    "#Scientic notation\n",
    "print(1.5e3)  \n",
    "print(1.5e-3)"
   ]
  },
  {
   "cell_type": "code",
   "execution_count": null,
   "id": "ba8e90c5",
   "metadata": {},
   "outputs": [
    {
     "data": {
      "text/plain": [
       "691.2"
      ]
     },
     "execution_count": 32,
     "metadata": {},
     "output_type": "execute_result"
    }
   ],
   "source": [
    "var1 = 123.89\n",
    "var2 = 567.35\n",
    "round(var1+var2) #691\n",
    "round(var1+var2, 1)"
   ]
  },
  {
   "cell_type": "code",
   "execution_count": 34,
   "id": "b2f6458d",
   "metadata": {},
   "outputs": [
    {
     "name": "stdout",
     "output_type": "stream",
     "text": [
      "691.24\n"
     ]
    }
   ],
   "source": [
    "str1_var1= \"123.89\"\n",
    "str_var2 = \"567.35\"\n",
    "print(float(str1_var1) + float(str_var2))"
   ]
  },
  {
   "cell_type": "markdown",
   "id": "c425ba31",
   "metadata": {},
   "source": [
    "#### Unary Operators:(Negation(-), Logic Not(!), Increment/Decrement(++/--), Bitwise Not(~))"
   ]
  },
  {
   "cell_type": "code",
   "execution_count": 35,
   "id": "0c7b9eb3",
   "metadata": {},
   "outputs": [
    {
     "data": {
      "text/plain": [
       "-7"
      ]
     },
     "execution_count": 35,
     "metadata": {},
     "output_type": "execute_result"
    }
   ],
   "source": [
    "n = 7\n",
    "n = -n\n",
    "n "
   ]
  },
  {
   "cell_type": "markdown",
   "id": "587ef3c9",
   "metadata": {},
   "source": [
    "#### Relational Operators: ( > , <, ==, <=, >=, !=)"
   ]
  },
  {
   "cell_type": "code",
   "execution_count": 36,
   "id": "42f22366",
   "metadata": {},
   "outputs": [
    {
     "data": {
      "text/plain": [
       "False"
      ]
     },
     "execution_count": 36,
     "metadata": {},
     "output_type": "execute_result"
    }
   ],
   "source": [
    "a, b = 5,6\n",
    "a>b"
   ]
  },
  {
   "cell_type": "code",
   "execution_count": 37,
   "id": "576c3d7a",
   "metadata": {},
   "outputs": [
    {
     "data": {
      "text/plain": [
       "True"
      ]
     },
     "execution_count": 37,
     "metadata": {},
     "output_type": "execute_result"
    }
   ],
   "source": [
    "a<b"
   ]
  },
  {
   "cell_type": "code",
   "execution_count": 38,
   "id": "054cf1dd",
   "metadata": {},
   "outputs": [
    {
     "data": {
      "text/plain": [
       "False"
      ]
     },
     "execution_count": 38,
     "metadata": {},
     "output_type": "execute_result"
    }
   ],
   "source": [
    "a==b"
   ]
  },
  {
   "cell_type": "code",
   "execution_count": 39,
   "id": "0a13b084",
   "metadata": {},
   "outputs": [
    {
     "data": {
      "text/plain": [
       "False"
      ]
     },
     "execution_count": 39,
     "metadata": {},
     "output_type": "execute_result"
    }
   ],
   "source": [
    "a>=b"
   ]
  },
  {
   "cell_type": "code",
   "execution_count": 40,
   "id": "27615f10",
   "metadata": {},
   "outputs": [
    {
     "data": {
      "text/plain": [
       "True"
      ]
     },
     "execution_count": 40,
     "metadata": {},
     "output_type": "execute_result"
    }
   ],
   "source": [
    "a<=b"
   ]
  },
  {
   "cell_type": "code",
   "execution_count": 41,
   "id": "7977ea49",
   "metadata": {},
   "outputs": [
    {
     "data": {
      "text/plain": [
       "True"
      ]
     },
     "execution_count": 41,
     "metadata": {},
     "output_type": "execute_result"
    }
   ],
   "source": [
    "a!=b"
   ]
  },
  {
   "cell_type": "markdown",
   "id": "0c9a4197",
   "metadata": {},
   "source": [
    "#### Logical Operators: ( and, or , not)"
   ]
  },
  {
   "cell_type": "code",
   "execution_count": 43,
   "id": "e866d73a",
   "metadata": {},
   "outputs": [
    {
     "data": {
      "text/plain": [
       "False"
      ]
     },
     "execution_count": 43,
     "metadata": {},
     "output_type": "execute_result"
    }
   ],
   "source": [
    "a<8 and b>8"
   ]
  },
  {
   "cell_type": "code",
   "execution_count": 44,
   "id": "19d2edc0",
   "metadata": {},
   "outputs": [
    {
     "data": {
      "text/plain": [
       "True"
      ]
     },
     "execution_count": 44,
     "metadata": {},
     "output_type": "execute_result"
    }
   ],
   "source": [
    "a<8 or b>8"
   ]
  },
  {
   "cell_type": "code",
   "execution_count": 45,
   "id": "11007a04",
   "metadata": {},
   "outputs": [],
   "source": [
    "x=True"
   ]
  },
  {
   "cell_type": "code",
   "execution_count": 46,
   "id": "823fea9f",
   "metadata": {},
   "outputs": [
    {
     "data": {
      "text/plain": [
       "False"
      ]
     },
     "execution_count": 46,
     "metadata": {},
     "output_type": "execute_result"
    }
   ],
   "source": [
    "not x"
   ]
  },
  {
   "cell_type": "markdown",
   "id": "1432eeb0",
   "metadata": {},
   "source": [
    "### Using Math Functions"
   ]
  },
  {
   "cell_type": "code",
   "execution_count": 47,
   "id": "49bdd935",
   "metadata": {},
   "outputs": [
    {
     "data": {
      "text/plain": [
       "2.0"
      ]
     },
     "execution_count": 47,
     "metadata": {},
     "output_type": "execute_result"
    }
   ],
   "source": [
    "import math \n",
    "x= 4\n",
    "math.sqrt(x)"
   ]
  },
  {
   "cell_type": "code",
   "execution_count": 51,
   "id": "9366f1c5",
   "metadata": {},
   "outputs": [
    {
     "data": {
      "text/plain": [
       "3"
      ]
     },
     "execution_count": 51,
     "metadata": {},
     "output_type": "execute_result"
    }
   ],
   "source": [
    "math.ceil(2.1)"
   ]
  },
  {
   "cell_type": "code",
   "execution_count": 52,
   "id": "41df497d",
   "metadata": {},
   "outputs": [
    {
     "data": {
      "text/plain": [
       "4"
      ]
     },
     "execution_count": 52,
     "metadata": {},
     "output_type": "execute_result"
    }
   ],
   "source": [
    "math.floor(4.8)"
   ]
  },
  {
   "cell_type": "code",
   "execution_count": 53,
   "id": "bde76e33",
   "metadata": {},
   "outputs": [
    {
     "data": {
      "text/plain": [
       "3.141592653589793"
      ]
     },
     "execution_count": 53,
     "metadata": {},
     "output_type": "execute_result"
    }
   ],
   "source": [
    "math.pi"
   ]
  },
  {
   "cell_type": "code",
   "execution_count": 54,
   "id": "da3cf628",
   "metadata": {},
   "outputs": [
    {
     "data": {
      "text/plain": [
       "['__doc__',\n",
       " '__loader__',\n",
       " '__name__',\n",
       " '__package__',\n",
       " '__spec__',\n",
       " 'acos',\n",
       " 'acosh',\n",
       " 'asin',\n",
       " 'asinh',\n",
       " 'atan',\n",
       " 'atan2',\n",
       " 'atanh',\n",
       " 'cbrt',\n",
       " 'ceil',\n",
       " 'comb',\n",
       " 'copysign',\n",
       " 'cos',\n",
       " 'cosh',\n",
       " 'degrees',\n",
       " 'dist',\n",
       " 'e',\n",
       " 'erf',\n",
       " 'erfc',\n",
       " 'exp',\n",
       " 'exp2',\n",
       " 'expm1',\n",
       " 'fabs',\n",
       " 'factorial',\n",
       " 'floor',\n",
       " 'fma',\n",
       " 'fmod',\n",
       " 'frexp',\n",
       " 'fsum',\n",
       " 'gamma',\n",
       " 'gcd',\n",
       " 'hypot',\n",
       " 'inf',\n",
       " 'isclose',\n",
       " 'isfinite',\n",
       " 'isinf',\n",
       " 'isnan',\n",
       " 'isqrt',\n",
       " 'lcm',\n",
       " 'ldexp',\n",
       " 'lgamma',\n",
       " 'log',\n",
       " 'log10',\n",
       " 'log1p',\n",
       " 'log2',\n",
       " 'modf',\n",
       " 'nan',\n",
       " 'nextafter',\n",
       " 'perm',\n",
       " 'pi',\n",
       " 'pow',\n",
       " 'prod',\n",
       " 'radians',\n",
       " 'remainder',\n",
       " 'sin',\n",
       " 'sinh',\n",
       " 'sqrt',\n",
       " 'sumprod',\n",
       " 'tan',\n",
       " 'tanh',\n",
       " 'tau',\n",
       " 'trunc',\n",
       " 'ulp']"
      ]
     },
     "execution_count": 54,
     "metadata": {},
     "output_type": "execute_result"
    }
   ],
   "source": [
    "dir(math)"
   ]
  },
  {
   "cell_type": "markdown",
   "id": "71bc7d2f",
   "metadata": {},
   "source": [
    "### Decimal, Binary, Octal, Hexadecimal :"
   ]
  },
  {
   "cell_type": "code",
   "execution_count": 55,
   "id": "b49a6c6b",
   "metadata": {},
   "outputs": [
    {
     "data": {
      "text/plain": [
       "'0b11001'"
      ]
     },
     "execution_count": 55,
     "metadata": {},
     "output_type": "execute_result"
    }
   ],
   "source": [
    "bin(25)"
   ]
  },
  {
   "cell_type": "code",
   "execution_count": 56,
   "id": "91030fca",
   "metadata": {},
   "outputs": [
    {
     "data": {
      "text/plain": [
       "25"
      ]
     },
     "execution_count": 56,
     "metadata": {},
     "output_type": "execute_result"
    }
   ],
   "source": [
    "0b11001"
   ]
  },
  {
   "cell_type": "code",
   "execution_count": 57,
   "id": "af7f66a9",
   "metadata": {},
   "outputs": [
    {
     "data": {
      "text/plain": [
       "'0o14'"
      ]
     },
     "execution_count": 57,
     "metadata": {},
     "output_type": "execute_result"
    }
   ],
   "source": [
    "oct(12)"
   ]
  },
  {
   "cell_type": "code",
   "execution_count": 58,
   "id": "7eed7953",
   "metadata": {},
   "outputs": [
    {
     "data": {
      "text/plain": [
       "'0x22'"
      ]
     },
     "execution_count": 58,
     "metadata": {},
     "output_type": "execute_result"
    }
   ],
   "source": [
    "hex(34)"
   ]
  },
  {
   "cell_type": "code",
   "execution_count": 59,
   "id": "3ac99f31",
   "metadata": {},
   "outputs": [
    {
     "data": {
      "text/plain": [
       "'11001'"
      ]
     },
     "execution_count": 59,
     "metadata": {},
     "output_type": "execute_result"
    }
   ],
   "source": [
    "# Binary Representation Of Integers\n",
    "format(25, 'b')"
   ]
  },
  {
   "cell_type": "markdown",
   "id": "734aa3bc",
   "metadata": {},
   "source": [
    "### Bitwise Operations"
   ]
  },
  {
   "cell_type": "code",
   "execution_count": 61,
   "id": "3933d852",
   "metadata": {},
   "outputs": [
    {
     "data": {
      "text/plain": [
       "-13"
      ]
     },
     "execution_count": 61,
     "metadata": {},
     "output_type": "execute_result"
    }
   ],
   "source": [
    "~12"
   ]
  },
  {
   "cell_type": "code",
   "execution_count": null,
   "id": "6c5e891e",
   "metadata": {},
   "outputs": [
    {
     "data": {
      "text/plain": [
       "12"
      ]
     },
     "execution_count": 62,
     "metadata": {},
     "output_type": "execute_result"
    }
   ],
   "source": [
    "#And operation\n",
    "12 & 13"
   ]
  },
  {
   "cell_type": "code",
   "execution_count": null,
   "id": "a6b31420",
   "metadata": {},
   "outputs": [
    {
     "data": {
      "text/plain": [
       "13"
      ]
     },
     "execution_count": 63,
     "metadata": {},
     "output_type": "execute_result"
    }
   ],
   "source": [
    "# OR operation\n",
    "12 | 13"
   ]
  },
  {
   "cell_type": "code",
   "execution_count": null,
   "id": "e0219a90",
   "metadata": {},
   "outputs": [
    {
     "data": {
      "text/plain": [
       "1"
      ]
     },
     "execution_count": 64,
     "metadata": {},
     "output_type": "execute_result"
    }
   ],
   "source": [
    "# XOR operation\n",
    "12 ^ 13"
   ]
  },
  {
   "cell_type": "code",
   "execution_count": 65,
   "id": "a784efd8",
   "metadata": {},
   "outputs": [
    {
     "data": {
      "text/plain": [
       "48"
      ]
     },
     "execution_count": 65,
     "metadata": {},
     "output_type": "execute_result"
    }
   ],
   "source": [
    "# Left shift\n",
    "12<<2"
   ]
  },
  {
   "cell_type": "code",
   "execution_count": 66,
   "id": "6a17fae9",
   "metadata": {},
   "outputs": [
    {
     "data": {
      "text/plain": [
       "3"
      ]
     },
     "execution_count": 66,
     "metadata": {},
     "output_type": "execute_result"
    }
   ],
   "source": [
    "#Right shift\n",
    "12>>2"
   ]
  },
  {
   "cell_type": "markdown",
   "id": "a5d50bd8",
   "metadata": {},
   "source": [
    "###"
   ]
  }
 ],
 "metadata": {
  "kernelspec": {
   "display_name": "Python 3",
   "language": "python",
   "name": "python3"
  },
  "language_info": {
   "codemirror_mode": {
    "name": "ipython",
    "version": 3
   },
   "file_extension": ".py",
   "mimetype": "text/x-python",
   "name": "python",
   "nbconvert_exporter": "python",
   "pygments_lexer": "ipython3",
   "version": "3.13.2"
  }
 },
 "nbformat": 4,
 "nbformat_minor": 5
}
