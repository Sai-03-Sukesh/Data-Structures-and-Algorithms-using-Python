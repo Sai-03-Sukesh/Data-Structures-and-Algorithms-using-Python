{
 "cells": [
  {
   "cell_type": "markdown",
   "id": "36b49d4f",
   "metadata": {},
   "source": [
    "# Strings"
   ]
  },
  {
   "cell_type": "code",
   "execution_count": 1,
   "id": "ae3abb77",
   "metadata": {},
   "outputs": [
    {
     "data": {
      "text/plain": [
       "str"
      ]
     },
     "execution_count": 1,
     "metadata": {},
     "output_type": "execute_result"
    }
   ],
   "source": [
    "first = \"Sai\"\n",
    "last = \"Sukesh\"\n",
    "type(first)"
   ]
  },
  {
   "cell_type": "code",
   "execution_count": 2,
   "id": "2700c3d6",
   "metadata": {},
   "outputs": [
    {
     "name": "stdout",
     "output_type": "stream",
     "text": [
      "Sai Sukesh\n"
     ]
    }
   ],
   "source": [
    "# Concatenation of string\n",
    "print(first+\" \"+last)"
   ]
  },
  {
   "cell_type": "code",
   "execution_count": 4,
   "id": "1aa22719",
   "metadata": {},
   "outputs": [
    {
     "name": "stdout",
     "output_type": "stream",
     "text": [
      "Lorem ipsum dolor sit amet,\n",
      "consectetur adipiscing elit,\n",
      "sed do eiusmod tempor incididunt\n",
      "ut labore et dolore magna aliqua.\n"
     ]
    }
   ],
   "source": [
    "# Multiline String\n",
    "mul_str = \"\"\"Lorem ipsum dolor sit amet,\n",
    "consectetur adipiscing elit,\n",
    "sed do eiusmod tempor incididunt\n",
    "ut labore et dolore magna aliqua.\"\"\"\n",
    "print(mul_str)"
   ]
  },
  {
   "cell_type": "markdown",
   "id": "44d4df76",
   "metadata": {},
   "source": [
    "#### Format String"
   ]
  },
  {
   "cell_type": "code",
   "execution_count": null,
   "id": "469522f3",
   "metadata": {},
   "outputs": [
    {
     "name": "stdout",
     "output_type": "stream",
     "text": [
      "Age of Sai Sukesh is 22\n"
     ]
    }
   ],
   "source": [
    "\n",
    "age = 22\n",
    "print(f\"Age of {first} {last} is {age}\")"
   ]
  },
  {
   "cell_type": "code",
   "execution_count": null,
   "id": "b3faae34",
   "metadata": {},
   "outputs": [
    {
     "name": "stdout",
     "output_type": "stream",
     "text": [
      "S\n",
      "Sri guru datta14\n"
     ]
    }
   ],
   "source": [
    "# String as Arrays\n",
    "name=\"Sri guru datta\"\n",
    "print(name[0])\n",
    "\n",
    "# Looping through a string\n",
    "for c in name:\n",
    "    print(c,end=\"\")"
   ]
  },
  {
   "cell_type": "code",
   "execution_count": 9,
   "id": "7a9282d8",
   "metadata": {},
   "outputs": [
    {
     "name": "stdout",
     "output_type": "stream",
     "text": [
      "14\n"
     ]
    }
   ],
   "source": [
    "#len() function\n",
    "print(len(name))"
   ]
  },
  {
   "cell_type": "markdown",
   "id": "a4d48ee7",
   "metadata": {},
   "source": [
    "#### Strings are immutable"
   ]
  },
  {
   "cell_type": "code",
   "execution_count": 17,
   "id": "da9d7229",
   "metadata": {},
   "outputs": [
    {
     "ename": "TypeError",
     "evalue": "'str' object does not support item assignment",
     "output_type": "error",
     "traceback": [
      "\u001b[31m---------------------------------------------------------------------------\u001b[39m",
      "\u001b[31mTypeError\u001b[39m                                 Traceback (most recent call last)",
      "\u001b[36mCell\u001b[39m\u001b[36m \u001b[39m\u001b[32mIn[17]\u001b[39m\u001b[32m, line 2\u001b[39m\n\u001b[32m      1\u001b[39m fruit=\u001b[33m\"\u001b[39m\u001b[33mJamuns\u001b[39m\u001b[33m\"\u001b[39m\n\u001b[32m----> \u001b[39m\u001b[32m2\u001b[39m \u001b[43mfruit\u001b[49m\u001b[43m[\u001b[49m\u001b[32;43m0\u001b[39;49m\u001b[43m]\u001b[49m=\u001b[33m'\u001b[39m\u001b[33mb\u001b[39m\u001b[33m'\u001b[39m\n",
      "\u001b[31mTypeError\u001b[39m: 'str' object does not support item assignment"
     ]
    }
   ],
   "source": [
    "fruit=\"Jamuns\"\n",
    "fruit[0]='b'"
   ]
  },
  {
   "cell_type": "markdown",
   "id": "1a457add",
   "metadata": {},
   "source": [
    "#### Check string using in operator"
   ]
  },
  {
   "cell_type": "code",
   "execution_count": 11,
   "id": "927b7491",
   "metadata": {},
   "outputs": [
    {
     "data": {
      "text/plain": [
       "'Pune is good city in India. \\nThe one who lives there can visit the scenic treks and mountains during weekends. \\nThere are many PGs and hostels available for students and working professionals.'"
      ]
     },
     "execution_count": 11,
     "metadata": {},
     "output_type": "execute_result"
    }
   ],
   "source": [
    "che_str=\"\"\"Pune is good city in India. \n",
    "The one who lives there can visit the scenic treks and mountains during weekends. \n",
    "There are many PGs and hostels available for students and working professionals.\"\"\"\n",
    "che_str"
   ]
  },
  {
   "cell_type": "code",
   "execution_count": 12,
   "id": "81427b3d",
   "metadata": {},
   "outputs": [
    {
     "name": "stdout",
     "output_type": "stream",
     "text": [
      "Pune is good city in India. \n",
      "The one who lives there can visit the scenic treks and mountains during weekends. \n",
      "There are many PGs and hostels available for students and working professionals.\n"
     ]
    }
   ],
   "source": [
    "print(che_str)"
   ]
  },
  {
   "cell_type": "code",
   "execution_count": 16,
   "id": "90ef940e",
   "metadata": {},
   "outputs": [
    {
     "name": "stdout",
     "output_type": "stream",
     "text": [
      "True\n",
      "Yes, India is present in string\n"
     ]
    }
   ],
   "source": [
    "print(\"PGs\" in che_str)\n",
    "\n",
    "if \"India\" in che_str:\n",
    "    print(\"Yes, India is present in string\")"
   ]
  },
  {
   "cell_type": "code",
   "execution_count": 25,
   "id": "0edd688b",
   "metadata": {},
   "outputs": [
    {
     "name": "stdout",
     "output_type": "stream",
     "text": [
      "8\n"
     ]
    }
   ],
   "source": [
    "print(che_str.find(\"good\"))"
   ]
  },
  {
   "cell_type": "markdown",
   "id": "063728a9",
   "metadata": {},
   "source": [
    "## String Slicing"
   ]
  },
  {
   "cell_type": "code",
   "execution_count": 19,
   "id": "bee32e64",
   "metadata": {},
   "outputs": [],
   "source": [
    "str = \"Hello , World!\""
   ]
  },
  {
   "cell_type": "code",
   "execution_count": 21,
   "id": "429c3956",
   "metadata": {},
   "outputs": [
    {
     "name": "stdout",
     "output_type": "stream",
     "text": [
      "Hello\n"
     ]
    }
   ],
   "source": [
    "# Slice from start\n",
    "print(str[:5])"
   ]
  },
  {
   "cell_type": "code",
   "execution_count": 22,
   "id": "6879213d",
   "metadata": {},
   "outputs": [
    {
     "name": "stdout",
     "output_type": "stream",
     "text": [
      "World!\n"
     ]
    }
   ],
   "source": [
    "#Slice to the end\n",
    "print(str[8:])"
   ]
  },
  {
   "cell_type": "code",
   "execution_count": 23,
   "id": "7ca01816",
   "metadata": {},
   "outputs": [
    {
     "name": "stdout",
     "output_type": "stream",
     "text": [
      ", World\n"
     ]
    }
   ],
   "source": [
    "# Specify start and end index(end index is not included)\n",
    "print(str[6:13])"
   ]
  },
  {
   "cell_type": "code",
   "execution_count": 24,
   "id": "78bc3008",
   "metadata": {},
   "outputs": [
    {
     "name": "stdout",
     "output_type": "stream",
     "text": [
      "llo\n"
     ]
    }
   ],
   "source": [
    "# Negative Indexing\n",
    "print(str[-12:-9])"
   ]
  },
  {
   "cell_type": "markdown",
   "id": "411534d5",
   "metadata": {},
   "source": [
    "## Functions in String"
   ]
  },
  {
   "cell_type": "code",
   "execution_count": 27,
   "id": "c7e31346",
   "metadata": {},
   "outputs": [
    {
     "name": "stdout",
     "output_type": "stream",
     "text": [
      " I am fine, thank you! \n"
     ]
    }
   ],
   "source": [
    "s = \" I am fine, thank you! \"\n",
    "\n",
    "print(s)"
   ]
  },
  {
   "cell_type": "code",
   "execution_count": 32,
   "id": "c6a523bb",
   "metadata": {},
   "outputs": [
    {
     "name": "stdout",
     "output_type": "stream",
     "text": [
      " I AM FINE, THANK YOU! \n"
     ]
    }
   ],
   "source": [
    "#Upper function\n",
    "print(s.upper())\n"
   ]
  },
  {
   "cell_type": "code",
   "execution_count": 33,
   "id": "15da65b0",
   "metadata": {},
   "outputs": [
    {
     "name": "stdout",
     "output_type": "stream",
     "text": [
      " i am fine, thank you! \n"
     ]
    }
   ],
   "source": [
    "#Lower function\n",
    "print(s.lower())"
   ]
  },
  {
   "cell_type": "code",
   "execution_count": 35,
   "id": "b005fc3e",
   "metadata": {},
   "outputs": [
    {
     "data": {
      "text/plain": [
       "'I am fine, thank you!'"
      ]
     },
     "execution_count": 35,
     "metadata": {},
     "output_type": "execute_result"
    }
   ],
   "source": [
    "#strip() function removes whitespaces from both beginning and end of string\n",
    "s.strip()"
   ]
  },
  {
   "cell_type": "code",
   "execution_count": 37,
   "id": "6bdc88ed",
   "metadata": {},
   "outputs": [
    {
     "data": {
      "text/plain": [
       "'patient was charged 100$ for lab test'"
      ]
     },
     "execution_count": 37,
     "metadata": {},
     "output_type": "execute_result"
    }
   ],
   "source": [
    "s1 = \"patient was charged 100$ for lab test\"\n",
    "\n",
    "#replace() function replaces a string with another string\n",
    "s2 = s1.replace(\"100$\", \"50$\")\n",
    "s1   "
   ]
  },
  {
   "cell_type": "code",
   "execution_count": 38,
   "id": "2a7690a3",
   "metadata": {},
   "outputs": [
    {
     "data": {
      "text/plain": [
       "'patient was charged 50$ for lab test'"
      ]
     },
     "execution_count": 38,
     "metadata": {},
     "output_type": "execute_result"
    }
   ],
   "source": [
    "s2"
   ]
  },
  {
   "cell_type": "markdown",
   "id": "8f9e6158",
   "metadata": {},
   "source": [
    "    find():\n",
    "        Returns the index of the first occurrence of the substring.\n",
    "        Returns -1 if the substring is not found.\n",
    "        Is available for strings. \n",
    "    index():\n",
    "        Returns the index of the first occurrence of the substring or element.\n",
    "        Raises a ValueError exception if the substring or element is not found.\n",
    "        Is available for strings, lists, and other subscriptable iterables. \n",
    "\n",
    "In essence, find() is safer to use if you are unsure whether the substring or element exists, as it will not raise an exception. index() is more suitable when you expect the substring or element to be present and want to handle the case where it is missing through an exception.\n"
   ]
  },
  {
   "cell_type": "code",
   "execution_count": 39,
   "id": "f54db3a9",
   "metadata": {},
   "outputs": [
    {
     "name": "stdout",
     "output_type": "stream",
     "text": [
      "20\n"
     ]
    }
   ],
   "source": [
    "#index() function returns the index of first occurrence of a substring\n",
    "print(s1.index(\"100$\"))"
   ]
  },
  {
   "cell_type": "code",
   "execution_count": null,
   "id": "9cbed9c0",
   "metadata": {},
   "outputs": [
    {
     "data": {
      "text/plain": [
       "True"
      ]
     },
     "execution_count": 40,
     "metadata": {},
     "output_type": "execute_result"
    }
   ],
   "source": [
    "#isdigit() function checks if all characters in the string are digits\n",
    "'420'.isdigit()"
   ]
  },
  {
   "cell_type": "code",
   "execution_count": 41,
   "id": "a90ee2b2",
   "metadata": {},
   "outputs": [
    {
     "data": {
      "text/plain": [
       "False"
      ]
     },
     "execution_count": 41,
     "metadata": {},
     "output_type": "execute_result"
    }
   ],
   "source": [
    "'420a'.isdigit()"
   ]
  },
  {
   "cell_type": "code",
   "execution_count": 48,
   "id": "1c19092d",
   "metadata": {},
   "outputs": [
    {
     "data": {
      "text/plain": [
       "['AAPL', 'NVDA', 'RIL', 'GOGL']"
      ]
     },
     "execution_count": 48,
     "metadata": {},
     "output_type": "execute_result"
    }
   ],
   "source": [
    "tickers=\"AAPL|NVDA|RIL|GOGL\"\n",
    "tickers.split(\"|\")"
   ]
  },
  {
   "cell_type": "code",
   "execution_count": 49,
   "id": "e7aca8fe",
   "metadata": {},
   "outputs": [
    {
     "data": {
      "text/plain": [
       "True"
      ]
     },
     "execution_count": 49,
     "metadata": {},
     "output_type": "execute_result"
    }
   ],
   "source": [
    "#endswith() function\n",
    "file_name = \"report.pdf\"\n",
    "file_name.endswith(\".pdf\")"
   ]
  },
  {
   "cell_type": "code",
   "execution_count": 51,
   "id": "64db8683",
   "metadata": {},
   "outputs": [
    {
     "name": "stdout",
     "output_type": "stream",
     "text": [
      "hey\tbro\n"
     ]
    }
   ],
   "source": [
    "s=\"hey\\tbro\"\n",
    "print(s)"
   ]
  },
  {
   "cell_type": "code",
   "execution_count": 53,
   "id": "8e924472",
   "metadata": {},
   "outputs": [
    {
     "name": "stdout",
     "output_type": "stream",
     "text": [
      "hey\\tbro\n"
     ]
    }
   ],
   "source": [
    "print(r\"hey\\tbro\")  "
   ]
  },
  {
   "cell_type": "markdown",
   "id": "7a4be0ea",
   "metadata": {},
   "source": [
    "### Other String Methods"
   ]
  },
  {
   "cell_type": "code",
   "execution_count": 56,
   "id": "80fe41be",
   "metadata": {},
   "outputs": [
    {
     "name": "stdout",
     "output_type": "stream",
     "text": [
      "Hello world\n"
     ]
    },
    {
     "data": {
      "text/plain": [
       "'Python is fun!'"
      ]
     },
     "execution_count": 56,
     "metadata": {},
     "output_type": "execute_result"
    }
   ],
   "source": [
    "# capitalize() function capitalizes the first character of the string and the rest is lower case\n",
    "a1 = \"hello world\"\n",
    "a2 = a1.capitalize()\n",
    "print(a2)\n",
    "\n",
    "a3=\"python is FUN!\"\n",
    "a3.capitalize()\n"
   ]
  },
  {
   "cell_type": "code",
   "execution_count": 63,
   "id": "ad480197",
   "metadata": {},
   "outputs": [
    {
     "name": "stdout",
     "output_type": "stream",
     "text": [
      "   Hii    \n"
     ]
    },
    {
     "data": {
      "text/plain": [
       "'***Hii****'"
      ]
     },
     "execution_count": 63,
     "metadata": {},
     "output_type": "execute_result"
    }
   ],
   "source": [
    "# .center() method will center align the string, using a specified character (space is default) as the fill character.\n",
    "a4=\"Hii\"\n",
    "print(a4.center(10))\n",
    "a4.center(10,\"*\")"
   ]
  },
  {
   "cell_type": "code",
   "execution_count": null,
   "id": "914db142",
   "metadata": {},
   "outputs": [
    {
     "name": "stdout",
     "output_type": "stream",
     "text": [
      "1\n"
     ]
    }
   ],
   "source": [
    "# count() \n",
    "a5=\"I love apples, apple are my favorite fruit\"\n",
    "a5.count(\"apple\") #2\n",
    "print(a5.count(\"apple\", 10, 20))"
   ]
  },
  {
   "cell_type": "code",
   "execution_count": 68,
   "id": "8524cb81",
   "metadata": {},
   "outputs": [
    {
     "data": {
      "text/plain": [
       "'My name is Sai and 22 years old living in Pune'"
      ]
     },
     "execution_count": 68,
     "metadata": {},
     "output_type": "execute_result"
    }
   ],
   "source": [
    "# format() \n",
    "a6=\"My name is {name} and {age} years old living in {city}\".format(name=\"Sai\", age=22, city=\"Pune\")\n",
    "a6"
   ]
  },
  {
   "cell_type": "code",
   "execution_count": null,
   "id": "b70942d8",
   "metadata": {},
   "outputs": [
    {
     "data": {
      "text/plain": [
       "True"
      ]
     },
     "execution_count": 71,
     "metadata": {},
     "output_type": "execute_result"
    }
   ],
   "source": [
    "#isalpha()\n",
    "al = \"Suki03\"\n",
    "al.isalpha() #False\n",
    "\n",
    "alp = \"Suki\"\n",
    "alp.isalpha() #True"
   ]
  },
  {
   "cell_type": "code",
   "execution_count": 73,
   "id": "317ead72",
   "metadata": {},
   "outputs": [
    {
     "data": {
      "text/plain": [
       "True"
      ]
     },
     "execution_count": 73,
     "metadata": {},
     "output_type": "execute_result"
    }
   ],
   "source": [
    "#isalnum()\n",
    "x1=\"SG123\"\n",
    "x1.isalnum()"
   ]
  },
  {
   "cell_type": "code",
   "execution_count": 74,
   "id": "c2c62dee",
   "metadata": {},
   "outputs": [
    {
     "data": {
      "text/plain": [
       "True"
      ]
     },
     "execution_count": 74,
     "metadata": {},
     "output_type": "execute_result"
    }
   ],
   "source": [
    "#islower()\n",
    "x2=\"hello\"\n",
    "x2.islower()"
   ]
  },
  {
   "cell_type": "code",
   "execution_count": 75,
   "id": "184eadab",
   "metadata": {},
   "outputs": [
    {
     "data": {
      "text/plain": [
       "True"
      ]
     },
     "execution_count": 75,
     "metadata": {},
     "output_type": "execute_result"
    }
   ],
   "source": [
    "# isupper()\n",
    "x3=\"HELLO\"\n",
    "x3.isupper()"
   ]
  },
  {
   "cell_type": "code",
   "execution_count": 76,
   "id": "83b93458",
   "metadata": {},
   "outputs": [
    {
     "data": {
      "text/plain": [
       "'Vamsi,Chaitanya,Sruthik,Praneeth'"
      ]
     },
     "execution_count": 76,
     "metadata": {},
     "output_type": "execute_result"
    }
   ],
   "source": [
    "#The join() method takes all items in an iterable and joins them into one string\n",
    "mytuple = (\"Vamsi\",\"Chaitanya\", \"Sruthik\",\"Praneeth\")\n",
    "fin = \",\".join(mytuple)\n",
    "fin"
   ]
  },
  {
   "cell_type": "code",
   "execution_count": 77,
   "id": "678671ca",
   "metadata": {},
   "outputs": [
    {
     "name": "stdout",
     "output_type": "stream",
     "text": [
      "name|age|city\n"
     ]
    }
   ],
   "source": [
    "dict={\"name\":\"Sai\", \"age\":22, \"city\":\"Pune\"}\n",
    "print(\"|\".join(dict))"
   ]
  },
  {
   "cell_type": "code",
   "execution_count": null,
   "id": "8317a0a7",
   "metadata": {},
   "outputs": [],
   "source": []
  }
 ],
 "metadata": {
  "kernelspec": {
   "display_name": "Python 3",
   "language": "python",
   "name": "python3"
  },
  "language_info": {
   "codemirror_mode": {
    "name": "ipython",
    "version": 3
   },
   "file_extension": ".py",
   "mimetype": "text/x-python",
   "name": "python",
   "nbconvert_exporter": "python",
   "pygments_lexer": "ipython3",
   "version": "3.13.2"
  }
 },
 "nbformat": 4,
 "nbformat_minor": 5
}
