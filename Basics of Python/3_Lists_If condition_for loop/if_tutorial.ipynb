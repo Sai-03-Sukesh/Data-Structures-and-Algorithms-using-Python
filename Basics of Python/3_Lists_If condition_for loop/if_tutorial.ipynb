{
 "cells": [
  {
   "cell_type": "code",
   "execution_count": 3,
   "id": "50a292dc",
   "metadata": {},
   "outputs": [
    {
     "name": "stdout",
     "output_type": "stream",
     "text": [
      "5 is odd number!\n"
     ]
    }
   ],
   "source": [
    "n = int(input(\"Enter a number:\"))\n",
    "if n%2==0:\n",
    "    print(f\"{n} is even number!\")\n",
    "else:\n",
    "    print(f\"{n} is odd number!\")\n",
    "    "
   ]
  },
  {
   "cell_type": "code",
   "execution_count": 4,
   "id": "69f54ad6",
   "metadata": {},
   "outputs": [
    {
     "name": "stdout",
     "output_type": "stream",
     "text": [
      "biriyani is Indian\n"
     ]
    }
   ],
   "source": [
    "mexican = [\"taco\",\"enchilada\",\"burrito\"]\n",
    "italian = [\"pasta\",\"ravioli\",\"pizza\"]\n",
    "indian = [\"biryani\",\"samosa\",\"curry\"]\n",
    "\n",
    "dish = input(\"Enter a dish name:\")\n",
    "if dish in mexican:\n",
    "    print(f\"{dish} is a mexican!\")\n",
    "elif dish in italian:\n",
    "    print(f\"{dish} is italian!\")\n",
    "else:\n",
    "    print(f\"{dish} is Indian\")"
   ]
  },
  {
   "cell_type": "markdown",
   "id": "758a16e5",
   "metadata": {},
   "source": [
    "#### Shorthand of if condition"
   ]
  },
  {
   "cell_type": "code",
   "execution_count": 5,
   "id": "a5456292",
   "metadata": {},
   "outputs": [
    {
     "name": "stdout",
     "output_type": "stream",
     "text": [
      "Even\n"
     ]
    }
   ],
   "source": [
    "n=10\n",
    "print(\"Even\") if n%2==0 else print(\"Odd\")"
   ]
  },
  {
   "cell_type": "code",
   "execution_count": null,
   "id": "d384c9c0",
   "metadata": {},
   "outputs": [],
   "source": []
  }
 ],
 "metadata": {
  "kernelspec": {
   "display_name": "Python 3",
   "language": "python",
   "name": "python3"
  },
  "language_info": {
   "codemirror_mode": {
    "name": "ipython",
    "version": 3
   },
   "file_extension": ".py",
   "mimetype": "text/x-python",
   "name": "python",
   "nbconvert_exporter": "python",
   "pygments_lexer": "ipython3",
   "version": "3.13.2"
  }
 },
 "nbformat": 4,
 "nbformat_minor": 5
}
