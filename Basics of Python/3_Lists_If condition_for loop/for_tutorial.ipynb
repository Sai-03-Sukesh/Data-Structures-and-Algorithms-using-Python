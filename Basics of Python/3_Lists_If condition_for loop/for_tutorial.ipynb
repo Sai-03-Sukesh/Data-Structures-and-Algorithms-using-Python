{
 "cells": [
  {
   "cell_type": "code",
   "execution_count": null,
   "id": "c85c1a38",
   "metadata": {},
   "outputs": [
    {
     "name": "stdout",
     "output_type": "stream",
     "text": [
      "Total expenses: 5700\n"
     ]
    }
   ],
   "source": [
    "expenses = [1200, 1300, 1500, 1700]\n",
    "total = 0\n",
    "for expense in expenses:\n",
    "    total += expense\n",
    "print(\"Total expenses:\", total)"
   ]
  },
  {
   "cell_type": "code",
   "execution_count": 4,
   "id": "b753c879",
   "metadata": {},
   "outputs": [
    {
     "name": "stdout",
     "output_type": "stream",
     "text": [
      "Month 1 : expenses=1200\n",
      "Month 2 : expenses=1300\n",
      "Month 3 : expenses=1500\n",
      "Month 4 : expenses=1700\n",
      "Total expenses: 5700\n"
     ]
    }
   ],
   "source": [
    "#Using range function\n",
    "total = 0\n",
    "for i in range(len(expenses)):\n",
    "    total += expenses[i]\n",
    "    print(f\"Month {i+1} : expenses={expenses[i]}\")\n",
    "print(\"Total expenses:\", total)\n"
   ]
  },
  {
   "cell_type": "code",
   "execution_count": 6,
   "id": "d5ce9151",
   "metadata": {},
   "outputs": [
    {
     "name": "stdout",
     "output_type": "stream",
     "text": [
      "Month 1 : expenses=1200\n",
      "Month 2 : expenses=1300\n",
      "Month 3 : expenses=1500\n",
      "Month 4 : expenses=1700\n"
     ]
    }
   ],
   "source": [
    "#enumerate function\n",
    "for i, expense in enumerate(expenses, 1):\n",
    "    print(f\"Month {i} : expenses={expense}\")\n"
   ]
  },
  {
   "cell_type": "code",
   "execution_count": 7,
   "id": "e55e0832",
   "metadata": {},
   "outputs": [
    {
     "name": "stdout",
     "output_type": "stream",
     "text": [
      "1,3,5,7,9,"
     ]
    }
   ],
   "source": [
    "#Using continue statement\n",
    "for i in range(10):\n",
    "    if i%2==0:\n",
    "        continue\n",
    "    print(i,end=\",\")"
   ]
  },
  {
   "cell_type": "code",
   "execution_count": null,
   "id": "6b4bfc46",
   "metadata": {},
   "outputs": [
    {
     "name": "stdout",
     "output_type": "stream",
     "text": [
      "42 is greater than threshold\n",
      "38 is greater than threshold\n",
      "33 is less than threshold\n"
     ]
    }
   ],
   "source": [
    "#break statement\n",
    "monthly_sales = [42, 38, 33, 38, 40, 45]\n",
    "threshold = 35\n",
    "for sale in monthly_sales:\n",
    "    if sale<threshold:\n",
    "        print(f\"{sale} is less than threshold\")\n",
    "        break\n",
    "    else:\n",
    "        print(f\"{sale} is greater than threshold\")"
   ]
  },
  {
   "cell_type": "code",
   "execution_count": 10,
   "id": "ee29c18d",
   "metadata": {},
   "outputs": [
    {
     "name": "stdout",
     "output_type": "stream",
     "text": [
      "42 is greater than threshold in Jan\n",
      "38 is greater than threshold in Feb\n",
      "33 is less than threshold in March\n",
      "38 is greater than threshold in April\n",
      "40 is greater than threshold in May\n",
      "45 is greater than threshold in June\n"
     ]
    }
   ],
   "source": [
    "months = [\"Jan\", \"Feb\", \"March\", \"April\", \"May\", \"June\"]\n",
    "for sale, month in zip(monthly_sales, months):\n",
    "    if sale<threshold:\n",
    "        print(f\"{sale} is less than threshold in {month}\")\n",
    "    else:\n",
    "        print(f\"{sale} is greater than threshold in {month}\")\n"
   ]
  },
  {
   "cell_type": "code",
   "execution_count": null,
   "id": "23d03736",
   "metadata": {},
   "outputs": [],
   "source": []
  }
 ],
 "metadata": {
  "kernelspec": {
   "display_name": "Python 3",
   "language": "python",
   "name": "python3"
  },
  "language_info": {
   "codemirror_mode": {
    "name": "ipython",
    "version": 3
   },
   "file_extension": ".py",
   "mimetype": "text/x-python",
   "name": "python",
   "nbconvert_exporter": "python",
   "pygments_lexer": "ipython3",
   "version": "3.13.2"
  }
 },
 "nbformat": 4,
 "nbformat_minor": 5
}
