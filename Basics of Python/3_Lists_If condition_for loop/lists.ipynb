{
 "cells": [
  {
   "cell_type": "code",
   "execution_count": 1,
   "id": "5a999ae2",
   "metadata": {},
   "outputs": [
    {
     "data": {
      "text/plain": [
       "['bread', 'pasta', 'fruits', 'veggies']"
      ]
     },
     "execution_count": 1,
     "metadata": {},
     "output_type": "execute_result"
    }
   ],
   "source": [
    "items = [\"bread\",\"pasta\",\"fruits\",\"veggies\"]\n",
    "items"
   ]
  },
  {
   "cell_type": "code",
   "execution_count": 4,
   "id": "794af335",
   "metadata": {},
   "outputs": [
    {
     "name": "stdout",
     "output_type": "stream",
     "text": [
      "4\n",
      "<class 'list'>\n"
     ]
    }
   ],
   "source": [
    "#len() function\n",
    "print(len(items))\n",
    "\n",
    "#type() function\n",
    "print(type(items))"
   ]
  },
  {
   "cell_type": "markdown",
   "id": "d55c64ab",
   "metadata": {},
   "source": [
    "#### list() constructor"
   ]
  },
  {
   "cell_type": "code",
   "execution_count": null,
   "id": "e03c07ae",
   "metadata": {},
   "outputs": [
    {
     "name": "stdout",
     "output_type": "stream",
     "text": [
      "['Redmi', 'Samsung', 'Motorola']\n"
     ]
    }
   ],
   "source": [
    "#We can use list() constructor when creating a new list.\n",
    "mobiles = list((\"Redmi\", \"Samsung\", \"Motorola\"))\n",
    "print(mobiles)"
   ]
  },
  {
   "cell_type": "markdown",
   "id": "ec052e60",
   "metadata": {},
   "source": [
    "### Access items"
   ]
  },
  {
   "cell_type": "code",
   "execution_count": 44,
   "id": "8d5a1f23",
   "metadata": {},
   "outputs": [
    {
     "data": {
      "text/plain": [
       "'Banana'"
      ]
     },
     "execution_count": 44,
     "metadata": {},
     "output_type": "execute_result"
    }
   ],
   "source": [
    "fruits = [\"Oranges\", \"Plum\", \"jamuns\", \"Banana\", \"Apples\", \"Muskmelon\"]\n",
    "fruits[3]"
   ]
  },
  {
   "cell_type": "code",
   "execution_count": 45,
   "id": "ea3a4336",
   "metadata": {},
   "outputs": [
    {
     "data": {
      "text/plain": [
       "'Banana'"
      ]
     },
     "execution_count": 45,
     "metadata": {},
     "output_type": "execute_result"
    }
   ],
   "source": [
    "#Negative indexing\n",
    "fruits[-3]"
   ]
  },
  {
   "cell_type": "code",
   "execution_count": 46,
   "id": "024cf341",
   "metadata": {},
   "outputs": [
    {
     "data": {
      "text/plain": [
       "['Plum', 'jamuns', 'Banana', 'Apples']"
      ]
     },
     "execution_count": 46,
     "metadata": {},
     "output_type": "execute_result"
    }
   ],
   "source": [
    "#Range of Indexes\n",
    "fruits[-5:-1]"
   ]
  },
  {
   "cell_type": "code",
   "execution_count": 47,
   "id": "b731b1cb",
   "metadata": {},
   "outputs": [
    {
     "data": {
      "text/plain": [
       "['Oranges', 'Plum', 'jamuns']"
      ]
     },
     "execution_count": 47,
     "metadata": {},
     "output_type": "execute_result"
    }
   ],
   "source": [
    "fruits[:3]"
   ]
  },
  {
   "cell_type": "markdown",
   "id": "62de2b18",
   "metadata": {},
   "source": [
    "#### in operator"
   ]
  },
  {
   "cell_type": "code",
   "execution_count": 48,
   "id": "2f2822f7",
   "metadata": {},
   "outputs": [
    {
     "data": {
      "text/plain": [
       "False"
      ]
     },
     "execution_count": 48,
     "metadata": {},
     "output_type": "execute_result"
    }
   ],
   "source": [
    "\"plum\" in fruits"
   ]
  },
  {
   "cell_type": "code",
   "execution_count": 49,
   "id": "3bbd8b75",
   "metadata": {},
   "outputs": [
    {
     "data": {
      "text/plain": [
       "False"
      ]
     },
     "execution_count": 49,
     "metadata": {},
     "output_type": "execute_result"
    }
   ],
   "source": [
    "\"Guava\" in fruits"
   ]
  },
  {
   "cell_type": "markdown",
   "id": "84ecd0e5",
   "metadata": {},
   "source": [
    "#### updating elements"
   ]
  },
  {
   "cell_type": "code",
   "execution_count": 50,
   "id": "1750d689",
   "metadata": {},
   "outputs": [
    {
     "data": {
      "text/plain": [
       "['Oranges', 'Plum', 'jamuns', 'Guava', 'Apples', 'Muskmelon']"
      ]
     },
     "execution_count": 50,
     "metadata": {},
     "output_type": "execute_result"
    }
   ],
   "source": [
    "fruits[3]=\"Guava\"\n",
    "fruits"
   ]
  },
  {
   "cell_type": "code",
   "execution_count": 52,
   "id": "d3d1764d",
   "metadata": {},
   "outputs": [
    {
     "data": {
      "text/plain": [
       "['Oranges', 'Plum', 'jamuns', 'Guava', 'Watermelon']"
      ]
     },
     "execution_count": 52,
     "metadata": {},
     "output_type": "execute_result"
    }
   ],
   "source": [
    "#Change a range of item values\n",
    "fruits[4:6]=[\"Watermelon\"]\n",
    "fruits"
   ]
  },
  {
   "cell_type": "markdown",
   "id": "d1f312ea",
   "metadata": {},
   "source": [
    "#### list functions"
   ]
  },
  {
   "cell_type": "code",
   "execution_count": 53,
   "id": "eb3000c1",
   "metadata": {},
   "outputs": [
    {
     "data": {
      "text/plain": [
       "['__add__',\n",
       " '__class__',\n",
       " '__class_getitem__',\n",
       " '__contains__',\n",
       " '__delattr__',\n",
       " '__delitem__',\n",
       " '__dir__',\n",
       " '__doc__',\n",
       " '__eq__',\n",
       " '__format__',\n",
       " '__ge__',\n",
       " '__getattribute__',\n",
       " '__getitem__',\n",
       " '__getstate__',\n",
       " '__gt__',\n",
       " '__hash__',\n",
       " '__iadd__',\n",
       " '__imul__',\n",
       " '__init__',\n",
       " '__init_subclass__',\n",
       " '__iter__',\n",
       " '__le__',\n",
       " '__len__',\n",
       " '__lt__',\n",
       " '__mul__',\n",
       " '__ne__',\n",
       " '__new__',\n",
       " '__reduce__',\n",
       " '__reduce_ex__',\n",
       " '__repr__',\n",
       " '__reversed__',\n",
       " '__rmul__',\n",
       " '__setattr__',\n",
       " '__setitem__',\n",
       " '__sizeof__',\n",
       " '__str__',\n",
       " '__subclasshook__',\n",
       " 'append',\n",
       " 'clear',\n",
       " 'copy',\n",
       " 'count',\n",
       " 'extend',\n",
       " 'index',\n",
       " 'insert',\n",
       " 'pop',\n",
       " 'remove',\n",
       " 'reverse',\n",
       " 'sort']"
      ]
     },
     "execution_count": 53,
     "metadata": {},
     "output_type": "execute_result"
    }
   ],
   "source": [
    "dir(list)"
   ]
  },
  {
   "cell_type": "code",
   "execution_count": 55,
   "id": "73dda6ee",
   "metadata": {},
   "outputs": [
    {
     "data": {
      "text/plain": [
       "['HP', 'Dell', 'Lenovo', 'ASUS']"
      ]
     },
     "execution_count": 55,
     "metadata": {},
     "output_type": "execute_result"
    }
   ],
   "source": [
    "# Append items\n",
    "laptops = [\"HP\", \"Dell\", \"Lenovo\"]\n",
    "laptops.append(\"ASUS\")\n",
    "laptops"
   ]
  },
  {
   "cell_type": "code",
   "execution_count": 56,
   "id": "ad7232a3",
   "metadata": {},
   "outputs": [
    {
     "data": {
      "text/plain": [
       "['HP', 'Dell', 'MAC', 'Lenovo', 'ASUS']"
      ]
     },
     "execution_count": 56,
     "metadata": {},
     "output_type": "execute_result"
    }
   ],
   "source": [
    "#Insert items\n",
    "laptops.insert(2, \"MAC\")\n",
    "laptops"
   ]
  },
  {
   "cell_type": "code",
   "execution_count": 57,
   "id": "381562b5",
   "metadata": {},
   "outputs": [
    {
     "data": {
      "text/plain": [
       "['HP', 'Dell', 'MAC', 'Lenovo', 'ASUS', 'NVIDIA', 'AMD']"
      ]
     },
     "execution_count": 57,
     "metadata": {},
     "output_type": "execute_result"
    }
   ],
   "source": [
    "# extend list\n",
    "GPU=[\"NVIDIA\", \"AMD\"]\n",
    "laptops.extend(GPU)\n",
    "laptops"
   ]
  },
  {
   "cell_type": "code",
   "execution_count": 60,
   "id": "77e9f104",
   "metadata": {},
   "outputs": [
    {
     "name": "stdout",
     "output_type": "stream",
     "text": [
      "['Read', 'write', 'Code', 'Sleep', 'Eat']\n",
      "['Read', 'write', 'Code', 'Sleep', 'Eat', 'Bath', 'Exercise']\n",
      "['Read', 'write', 'Code', 'Sleep', 'Eat', 'Bath', 'Exercise', 'Travel', 'Hobby']\n"
     ]
    }
   ],
   "source": [
    "# The extend() method does not have to append lists, you can add any iterable object (tuples, sets, dictionaries etc.)\n",
    "# Using tuple\n",
    "activities = [\"Read\", \"write\", \"Code\"]\n",
    "tuple_activities = (\"Sleep\", \"Eat\")\n",
    "activities.extend(tuple_activities)\n",
    "print(activities)\n",
    "\n",
    "#using set\n",
    "set_activities = {\"Exercise\", \"Bath\", \"Exercise\"}\n",
    "activities.extend(set_activities)\n",
    "print(activities)\n",
    "\n",
    "#using dictionary\n",
    "dict_activities = {\"Travel\": \"Bus\", \"Hobby\": \"Upskilling\"}\n",
    "activities.extend(dict_activities)\n",
    "print(activities)"
   ]
  },
  {
   "cell_type": "markdown",
   "id": "798a08fb",
   "metadata": {},
   "source": [
    "#### Removing elements from list"
   ]
  },
  {
   "cell_type": "code",
   "execution_count": 61,
   "id": "6649e696",
   "metadata": {},
   "outputs": [
    {
     "data": {
      "text/plain": [
       "['Read', 'write', 'Code', 'Sleep', 'Eat', 'Bath', 'Exercise', 'Hobby']"
      ]
     },
     "execution_count": 61,
     "metadata": {},
     "output_type": "execute_result"
    }
   ],
   "source": [
    "#remove() method removes the specidied item\n",
    "activities.remove(\"Travel\")\n",
    "activities\n"
   ]
  },
  {
   "cell_type": "code",
   "execution_count": 70,
   "id": "8f5eab6b",
   "metadata": {},
   "outputs": [
    {
     "data": {
      "text/plain": [
       "[2, 3, 4, 1, 5, 6, 7, 5, 8, 9]"
      ]
     },
     "execution_count": 70,
     "metadata": {},
     "output_type": "execute_result"
    }
   ],
   "source": [
    "#If there are more than one item with the specified value, the remove() method removes the first occurrence:\n",
    "num = [1,2,3,4,1,5,6,7,5,8,9]\n",
    "num.remove(1)\n",
    "num"
   ]
  },
  {
   "cell_type": "code",
   "execution_count": 71,
   "id": "ff16351f",
   "metadata": {},
   "outputs": [
    {
     "data": {
      "text/plain": [
       "[2, 3, 4, 1, 5, 6, 7, 5, 8]"
      ]
     },
     "execution_count": 71,
     "metadata": {},
     "output_type": "execute_result"
    }
   ],
   "source": [
    "# pop() removes the specified index\n",
    "num.pop()\n",
    "num"
   ]
  },
  {
   "cell_type": "code",
   "execution_count": 72,
   "id": "28bb9a2c",
   "metadata": {},
   "outputs": [
    {
     "data": {
      "text/plain": [
       "[2, 3, 4, 1, 5, 6, 7, 8]"
      ]
     },
     "execution_count": 72,
     "metadata": {},
     "output_type": "execute_result"
    }
   ],
   "source": [
    "num.pop(7)\n",
    "num"
   ]
  },
  {
   "cell_type": "code",
   "execution_count": null,
   "id": "abb99d5b",
   "metadata": {},
   "outputs": [
    {
     "data": {
      "text/plain": [
       "[2, 3, 4, 5, 6, 7, 8]"
      ]
     },
     "execution_count": 73,
     "metadata": {},
     "output_type": "execute_result"
    }
   ],
   "source": [
    "#del also removes the specified index\n",
    "del num[3]\n",
    "num"
   ]
  },
  {
   "cell_type": "code",
   "execution_count": 74,
   "id": "8943258c",
   "metadata": {},
   "outputs": [
    {
     "data": {
      "text/plain": [
       "[2, 3, 4, 5, 6]"
      ]
     },
     "execution_count": 74,
     "metadata": {},
     "output_type": "execute_result"
    }
   ],
   "source": [
    "del num[-2:]\n",
    "num"
   ]
  },
  {
   "cell_type": "code",
   "execution_count": 75,
   "id": "62f4f765",
   "metadata": {},
   "outputs": [
    {
     "data": {
      "text/plain": [
       "[]"
      ]
     },
     "execution_count": 75,
     "metadata": {},
     "output_type": "execute_result"
    }
   ],
   "source": [
    "#Clear keyword empties the list\n",
    "num.clear()\n",
    "num"
   ]
  },
  {
   "cell_type": "markdown",
   "id": "e284311c",
   "metadata": {},
   "source": [
    "#### Sort()"
   ]
  },
  {
   "cell_type": "code",
   "execution_count": 77,
   "id": "f2a5e5e8",
   "metadata": {},
   "outputs": [
    {
     "name": "stdout",
     "output_type": "stream",
     "text": [
      "['banana', 'kiwi', 'mango', 'orange', 'pineapple']\n",
      "[34, 87, 95, 23, 67, 94]\n"
     ]
    }
   ],
   "source": [
    "#sort() method that will sort the list alphanumerically\n",
    "fru = [\"orange\", \"mango\", \"kiwi\", \"pineapple\", \"banana\"]\n",
    "fru.sort()\n",
    "print(fru)\n",
    "\n",
    "num1=[34,87,95,23,67,94]\n",
    "num.sort()\n",
    "print(num1)"
   ]
  },
  {
   "cell_type": "code",
   "execution_count": 79,
   "id": "9e25f5da",
   "metadata": {},
   "outputs": [
    {
     "data": {
      "text/plain": [
       "[987, 985, 856, 567, 256, 123]"
      ]
     },
     "execution_count": 79,
     "metadata": {},
     "output_type": "execute_result"
    }
   ],
   "source": [
    "#Sort descending\n",
    "#To sort descending, use the keyword argument reverse = True\n",
    "num2=[567,256,985,856,987,123]\n",
    "num2.sort(reverse=True)\n",
    "num2"
   ]
  },
  {
   "cell_type": "code",
   "execution_count": 80,
   "id": "d1346053",
   "metadata": {},
   "outputs": [
    {
     "data": {
      "text/plain": [
       "['cherry', 'Kiwi', 'Orange', 'banana']"
      ]
     },
     "execution_count": 80,
     "metadata": {},
     "output_type": "execute_result"
    }
   ],
   "source": [
    "#reverse() method reverses the order of the list items\n",
    "fruit = [\"banana\", \"Orange\", \"Kiwi\", \"cherry\"]\n",
    "fruit.reverse()\n",
    "fruit"
   ]
  },
  {
   "cell_type": "code",
   "execution_count": 81,
   "id": "236415be",
   "metadata": {},
   "outputs": [
    {
     "name": "stdout",
     "output_type": "stream",
     "text": [
      "2\n",
      "1\n"
     ]
    }
   ],
   "source": [
    "# The count() method returns the number of elements with the specified value.\n",
    "numb=[1,2,3,4,2,4,1,2,5,6,7,8]\n",
    "print(numb.count(1))\n",
    "print(numb.count(7))"
   ]
  },
  {
   "cell_type": "markdown",
   "id": "d18d97bb",
   "metadata": {},
   "source": [
    "### Looping list comprehension"
   ]
  },
  {
   "cell_type": "code",
   "execution_count": 84,
   "id": "43c5f9a2",
   "metadata": {},
   "outputs": [
    {
     "data": {
      "text/plain": [
       "[4, 16, 36, 64]"
      ]
     },
     "execution_count": 84,
     "metadata": {},
     "output_type": "execute_result"
    }
   ],
   "source": [
    "l1 = [1,2,3,4,5,6,7,8,9]\n",
    "\n",
    "#syntax\n",
    "#new_list = [expression for item in iterable if condition]\n",
    "sqrd_even = [i**2  for i in l1 if i%2==0]\n",
    "sqrd_even"
   ]
  },
  {
   "cell_type": "code",
   "execution_count": 86,
   "id": "9310a8e0",
   "metadata": {},
   "outputs": [
    {
     "data": {
      "text/plain": [
       "[1, 4, 3, 16, 5, 36, 7, 64, 9]"
      ]
     },
     "execution_count": 86,
     "metadata": {},
     "output_type": "execute_result"
    }
   ],
   "source": [
    "l2 = [i**2 if i%2==0 else i for i in l1 ]\n",
    "l2"
   ]
  },
  {
   "cell_type": "code",
   "execution_count": null,
   "id": "950a06e9",
   "metadata": {},
   "outputs": [],
   "source": []
  }
 ],
 "metadata": {
  "kernelspec": {
   "display_name": "Python 3",
   "language": "python",
   "name": "python3"
  },
  "language_info": {
   "codemirror_mode": {
    "name": "ipython",
    "version": 3
   },
   "file_extension": ".py",
   "mimetype": "text/x-python",
   "name": "python",
   "nbconvert_exporter": "python",
   "pygments_lexer": "ipython3",
   "version": "3.13.2"
  }
 },
 "nbformat": 4,
 "nbformat_minor": 5
}
